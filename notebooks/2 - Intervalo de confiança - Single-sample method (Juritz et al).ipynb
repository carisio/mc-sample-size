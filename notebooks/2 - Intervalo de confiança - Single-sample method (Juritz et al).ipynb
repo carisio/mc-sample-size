{
 "cells": [
  {
   "cell_type": "markdown",
   "metadata": {},
   "source": [
    "# Cálculo de intervalo de confiança de acordo com o artigo \"On the accuracy of simulated percentage points\" (Juritz et al).\n",
    "\n",
    "Nomenclatura usada no artigo:\n",
    "\n",
    "- $f(x)$: pdf de uma variável aleatória $X$;\n",
    "- $0 < p < 1$, ${\\xi}_p$ denota o (100$p$) percentil de $X$;\n",
    "\n",
    "\n",
    "## Estimativa do percentil e intervalo de confiança\n",
    "\n",
    "Toda a discussão nessa seção é um resumo/tradução dos dados do artigo.\n",
    "\n",
    "### The single-sample method\n",
    "\n",
    "Nesse modelo o percentil é estimado a partir de uma única simulação de tamanho $n$.\n",
    "\n",
    "Seja $X_{(i)}$ a $i$'ésima menor observação da simulação. De acordo com o artigo, David (1970) mostrou que para qualquer variável aleatória contínua o irtevalo $(X_{(r)}, X_{(s)})$, com $r < s$, abarca ${\\xi}_p$ com probabilidade $ \\pi(r, s, n, p) $. Essa probabilidade é dada por:\n",
    "\n",
    "\n",
    "<center>$Prob(X_{(r)} \\lt \\xi_p \\lt X_{(s)}) = \\pi(r, s, n, p) = \\sum_{i = 1}^{s - 1} \\binom{n}{p} p^i (1 - p)^{(n-i)}$</center>\n",
    "\n",
    "\n",
    "Note que o que está sendo feito aqui é:\n",
    "\n",
    "1. fazemos uma simulação de Monte Carlo e o resultado são amostras da variável aleatória $X$; São realizadas $n$ simulações.\n",
    "\n",
    "2. ordenamos o resultado do maior para o menor e chamamos de $X_{(i)}$ onde $ 1 <= i <= n $ é o índice dos resultados já ordenados;\n",
    "\n",
    "3. estimamos o valor do (100$p$) percentil de $X$: ${\\xi}_p \\sim X_{(k)}$, onde $k = floor(np + 1)$.\n",
    "\n",
    "4. calculamos dois índices, $r$ e $s$. Esses índices, quando aplicados em $X_{(i)}$, dão o intervalo de confiança para a nossa estimativa do percentil com probabilidade $\\pi(r,s,n,p)$\n",
    "\n",
    "$p$ é o percentil (ou quantil) que estamos interessados. Assim, $p = Prob(X \\le \\xi_p)$. $r$ e $s$ são **escolhidos** de tal forma que o intervalo tenha confiança de $ 1 - \\alpha$, ou seja, $\\pi(r,s,n,p) = 1 - \\alpha$.\n",
    "\n",
    "Considerando $n$ como um valor muito grande, $\\pi(r,s,n,p)$ pode ser calculado aproximando a distribuação binomial por uma normal. Com isso, $r$ e $s$ pode ser encontrado como:\n",
    "\n",
    "<center>\n",
    "    $r = -w z_\\gamma + np + \\frac{1}{2}$ e $s = +w z_\\gamma + np + \\frac{1}{2}$\n",
    "</center>\n",
    "\n",
    "onde $w = \\sqrt{np(1-p)}$ e $z_\\gamma$ se refere ao (100$\\gamma$) percentil da distribuição normal padrão. Por fim, $\\gamma = 1 - \\frac{\\alpha}{2}$.\n",
    "\n",
    "<span style=\"color:red\">OBSERVAÇÃO: Essa aproximação é válida quando $np > 5$ e $nq > 5$ (onde $q = 1 - p$) [Referência](https://stats.libretexts.org/Courses/Las_Positas_College/Math_40%3A_Statistics_and_Probability/06%3A_Continuous_Random_Variables_and_the_Normal_Distribution/6.04%3A_Normal_Approximation_to_the_Binomial_Distribution). Como exemplo, se estamos trabalhando com o quantil 999, $ p = 0.999$ e $q = 0.001$, então $n$ deve ser no mínimo 5000.</span>\n"
   ]
  },
  {
   "cell_type": "markdown",
   "metadata": {},
   "source": [
    "## Simulação com gausiana\n",
    "\n",
    "Para testar, vamos considerar o cálculo do percentil 95 de uma distribuição normal. Ou seja, estamos interessados no cálculo de $\\xi_{0.95}$. O valor real é de 1.6449. Vamos calcular o mesmo valor usando uma série de simulações diferentes valores de $n$ (número de amostras) e estimar o valor de $\\xi_{0.95}$. Além disso, vamos fornecer um intervalo de confiança pra estimativa."
   ]
  },
  {
   "cell_type": "code",
   "execution_count": 6,
   "metadata": {},
   "outputs": [
    {
     "name": "stdout",
     "output_type": "stream",
     "text": [
      "Percentil estimado está na coluna m_k.\n",
      "As colunas m_r e m_s representam a estimativa para os limites do intervalo de confiança.\n",
      "----------------------------------------------------------\n",
      "p = 0.95. Valor real: 1.6448536269514722\n",
      "n\tk\tm_k\tr\tm_r\ts\tm_s\tCI Length\n",
      "100\t96\t1.5230\t92\t1.0571\t100\t1.8523\t0.7951559582900221\n",
      "400\t381\t1.5860\t374\t1.4779\t388\t1.8862\t0.4082918564690141\n",
      "500\t476\t1.6324\t468\t1.5327\t484\t1.8762\t0.34343192621330854\n",
      "1000\t951\t1.6871\t940\t1.5775\t962\t1.8124\t0.23499527823345434\n",
      "5000\t4751\t1.6406\t4726\t1.6088\t4776\t1.6787\t0.06989381763819269\n",
      "10000\t9501\t1.6434\t9465\t1.6148\t9537\t1.6743\t0.059491975361278815\n",
      "100000\t95001\t1.6506\t94888\t1.6393\t95114\t1.6617\t0.022407504724111682\n",
      "----------------------------------------------------------\n",
      "p = 0.975. Valor real: 1.959963984540054\n",
      "n\tk\tm_k\tr\tm_r\ts\tm_s\tCI Length\n",
      "100\t98\t1.5646\t95\t1.4779\t102\tnan\tnan\n",
      "400\t391\t2.1222\t385\t1.8523\t397\t2.3147\t0.4623803821645709\n",
      "500\t488\t2.0607\t482\t1.8523\t495\t2.1905\t0.33817744130104077\n",
      "1000\t976\t1.9647\t966\t1.8490\t986\t2.1898\t0.3408468382723271\n",
      "5000\t4876\t1.9483\t4854\t1.8768\t4898\t2.0469\t0.17006638316149192\n",
      "10000\t9751\t1.9764\t9720\t1.9120\t9782\t2.0421\t0.13006418387518281\n",
      "100000\t97501\t1.9611\t97404\t1.9452\t97598\t1.9764\t0.031245510238552487\n"
     ]
    }
   ],
   "source": [
    "import numpy as np\n",
    "import matplotlib.pyplot as plt\n",
    "import scipy.stats\n",
    "\n",
    "# Percentis desejados\n",
    "p = np.array([0.95, 0.975])\n",
    "\n",
    "# Quantidade de simulações\n",
    "n = np.array([100, 400, 500, 1000, 5000, 10000, 100000])\n",
    "\n",
    "# Seta a seed para 42 e gera uma amostra grande\n",
    "np.random.seed(42)\n",
    "amostras = np.random.normal(size=np.max(n))\n",
    "\n",
    "def juritz_et_al(amostras, n, p):\n",
    "    # Ordena do menor pro maior\n",
    "    x = np.sort(amostras)\n",
    "    # Índice da estimativa do percentil\n",
    "    k = int(np.floor(p*n + 1))\n",
    "    # Percentil na amostra\n",
    "    m_k = x[k - 1]\n",
    "    # Cálculo de w e z_gamma, necessários para o cálculo de r e s\n",
    "    w = (n * p * (1 - p)) ** 0.5\n",
    "    z_gamma = scipy.stats.norm.ppf(p)\n",
    "        \n",
    "    # Cálculo dos índices r e s (intervalos de confiança)\n",
    "    r = int(np.ceil( -w * z_gamma + n * p + 0.5))\n",
    "    s = int(np.ceil( +w * z_gamma + n * p + 0.5))\n",
    "    # Cálcula intervalo de confiança\n",
    "    m_r = x[r-1] if r <= n else float('NaN')\n",
    "    m_s = x[s-1] if s <= n else float('NaN')\n",
    "    ci_length = (x[s-1] - x[r-1]) if r <= n and s <= n else float('NaN')\n",
    "    return k, m_k, r, m_r, s, m_s, ci_length\n",
    "    \n",
    "# Cálcula cada percentil para cada p e n e mostra os resultados\n",
    "# em uma tabela. Informa também o intervalo de confiança calculado\n",
    "# Essa tabela é uma tentativa de reproduzir os dados do artigo\n",
    "print('Percentil estimado está na coluna m_k.')\n",
    "print('As colunas m_r e m_s representam a estimativa para os limites do intervalo de confiança.')\n",
    "for p_i in p:\n",
    "    print('----------------------------------------------------------')\n",
    "    print(f'p = {p_i}. Valor real: {scipy.stats.norm.ppf(p_i)}')\n",
    "    print('n\\tk\\tm_k\\tr\\tm_r\\ts\\tm_s\\tCI Length')\n",
    "    for n_i in n:\n",
    "        k, m_k, r, m_r, s, m_s, ci_length = juritz_et_al(amostras[0:n_i], n_i, p_i)\n",
    "        print(f'{n_i}\\t{k}\\t{m_k:0.4f}\\t{r}\\t{m_r:.4f}\\t{s}\\t{m_s:.4f}\\t{ci_length}')\n",
    "        \n",
    "        \n",
    "#estimativa_percentil = amostras_ordenadas[k]"
   ]
  },
  {
   "cell_type": "markdown",
   "metadata": {},
   "source": [
    "## Simulação com dados do SHARC\n",
    "\n",
    "Para esse exemplo vamos considerar os mesmos dados que no caso do caderno 1.:"
   ]
  },
  {
   "cell_type": "code",
   "execution_count": 7,
   "metadata": {},
   "outputs": [],
   "source": [
    "# Função auxiliar para plotar intervalo de confiança\n",
    "def plot_parametro_com_intervalo_confianca(label, valor_real, parametro_calculado, intervalo_confianca_inf, intervalo_confianca_sup, ymin=None, ymax=None):\n",
    "    plt.plot(qtd_amostras_analisadas, parametro_calculado)\n",
    "    plt.plot(qtd_amostras_analisadas, intervalo_confianca_inf, 'b')\n",
    "    plt.plot(qtd_amostras_analisadas, intervalo_confianca_sup, 'b')\n",
    "    plt.plot(qtd_amostras_analisadas, valor_real*np.ones(len(qtd_amostras_analisadas)))\n",
    "    plt.title(label)\n",
    "    if ymin is not None and ymax is not None:\n",
    "        xmin, xmax, _, _ = plt.axis()\n",
    "        plt.axis([xmin, xmax, ymin, ymax])\n",
    "    plt.show()"
   ]
  },
  {
   "cell_type": "code",
   "execution_count": 8,
   "metadata": {},
   "outputs": [
    {
     "data": {
      "image/png": "[encoded data removed]",
      "text/plain": [
       "<Figure size 432x288 with 1 Axes>"
      ]
     },
     "metadata": {
      "needs_background": "light"
     },
     "output_type": "display_data"
    }
   ],
   "source": [
    "arquivo_resultado = 'resultados/sem ssl/DL_20126808km2_nadir_50/sharc/output/[SYS] INR samples.txt'\n",
    "#arquivo_resultado = 'INR.txt'\n",
    "all_data = np.loadtxt(arquivo_resultado, dtype='float', usecols=(1), delimiter=\"\\t\", comments=\"#\")\n",
    "\n",
    "qtd_inicial_amostras = 1000\n",
    "total_amostras = len(all_data)\n",
    "total_simulacoes = 200\n",
    "passo = int((total_amostras - qtd_inicial_amostras)/total_simulacoes)\n",
    "qtd_amostras_analisadas = range(qtd_inicial_amostras, total_amostras, passo)\n",
    "\n",
    "# Guarda a estimativa e o intervalo de confiança do quantil 99%\n",
    "m_k_099 = list()\n",
    "m_r_099 = list()\n",
    "m_s_099 = list()\n",
    "\n",
    "# Guarda a estimativa e o intervalo de confiança do quantil 99.9%\n",
    "m_k_0999 = list()\n",
    "m_r_0999 = list()\n",
    "m_s_0999 = list()\n",
    "\n",
    "#print('n\\tk\\tm_k\\tr\\tm_r\\ts\\tm_s\\tCI Length')\n",
    "for n_amostras in qtd_amostras_analisadas:\n",
    "    k, m_k, r, m_r, s, m_s, ci_length = juritz_et_al(all_data[0:n_amostras], n_amostras, 0.99)\n",
    "    m_k_099.append(m_k)\n",
    "    m_r_099.append(m_r)\n",
    "    m_s_099.append(m_s)\n",
    "\n",
    "    k, m_k, r, m_r, s, m_s, ci_length = juritz_et_al(all_data[0:n_amostras], n_amostras, 0.999)\n",
    "    #print(f'{n_amostras}\\t{k}\\t{m_k:0.4f}\\t{r}\\t{m_r:.4f}\\t{s}\\t{m_s:.4f}\\t{ci_length}')\n",
    "    m_k_0999.append(m_k)\n",
    "    m_r_0999.append(m_r)\n",
    "    m_s_0999.append(m_s)\n",
    "\n",
    "plot_parametro_com_intervalo_confianca('Quantil 99%', np.percentile(all_data, 99), m_k_099, m_r_099, m_s_099, -45, -38)\n",
    "if total_amostras > 10500:\n",
    "    plot_parametro_com_intervalo_confianca('Quantil 99.9%', np.percentile(all_data, 99.9), m_k_0999, m_r_0999, m_s_0999)"
   ]
  },
  {
   "cell_type": "code",
   "execution_count": null,
   "metadata": {},
   "outputs": [],
   "source": []
  }
 ],
 "metadata": {
  "kernelspec": {
   "display_name": "Python 3",
   "language": "python",
   "name": "python3"
  },
  "language_info": {
   "codemirror_mode": {
    "name": "ipython",
    "version": 3
   },
   "file_extension": ".py",
   "mimetype": "text/x-python",
   "name": "python",
   "nbconvert_exporter": "python",
   "pygments_lexer": "ipython3",
   "version": "3.8.5"
  }
 },
 "nbformat": 4,
 "nbformat_minor": 4
}
