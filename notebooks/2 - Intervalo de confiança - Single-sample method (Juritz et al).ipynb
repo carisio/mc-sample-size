{
 "cells": [
  {
   "cell_type": "markdown",
   "metadata": {},
   "source": [
    "# Cálculo de intervalo de confiança de acordo com o artigo \"On the accuracy of simulated percentage points\" (Juritz et al).\n",
    "\n",
    "Nomenclatura usada no artigo:\n",
    "\n",
    "- $f(x)$: pdf de uma variável aleatória $X$;\n",
    "- $0 < p < 1$, ${\\xi}_p$ denota o (100$p$) percentil de $X$;\n",
    "\n",
    "\n",
    "## Estimativa do percentil e intervalo de confiança\n",
    "\n",
    "Toda a discussão nessa seção é um resumo/tradução dos dados do artigo.\n",
    "\n",
    "### The single-sample method\n",
    "\n",
    "Nesse modelo o percentil é estimado a partir de uma única simulação de tamanho $n$.\n",
    "\n",
    "Seja $X_{(i)}$ a $i$'ésima menor observação da simulação. De acordo com o artigo, David (1970) mostrou que para qualquer variável aleatória contínua o irtevalo $(X_{(r)}, X_{(s)})$, com $r < s$, abarca ${\\xi}_p$ com probabilidade $ \\pi(r, s, n, p) $. Essa probabilidade é dada por:\n",
    "\n",
    "\n",
    "<center>$Prob(X_{(r)} \\lt \\xi_p \\lt X_{(s)}) = \\pi(r, s, n, p) = \\sum_{i = 1}^{s - 1} \\binom{n}{p} p^i (1 - p)^{(n-i)}$</center>\n",
    "\n",
    "\n",
    "Note que o que está sendo feito aqui é:\n",
    "\n",
    "1. fazemos uma simulação de Monte Carlo e o resultado são amostras da variável aleatória $X$; São realizadas $n$ simulações.\n",
    "\n",
    "2. ordenamos o resultado do maior para o menor e chamamos de $X_{(i)}$ onde $ 1 <= i <= n $ é o índice dos resultados já ordenados;\n",
    "\n",
    "3. estimamos o valor do (100$p$) percentil de $X$: ${\\xi}_p \\sim X_{(k)}$, onde $k = ceil(np + 1)$.\n",
    "\n",
    "4. calculamos dois índices, $r$ e $s$. Esses índices, quando aplicados em $X_{(i)}$, dão o intervalo de confiança para a nossa estimativa do percentil com probabilidade $\\pi(r,s,n,p)$\n",
    "\n",
    "$p$ é o percentil (ou quantil) que estamos interessados. Assim, $p = Prob(X \\le \\xi_p)$. $r$ e $s$ são **escolhidos** de tal forma que o intervalo tenha confiança de $ 1 - \\alpha$, ou seja, $\\pi(r,s,n,p) = 1 - \\alpha$.\n",
    "\n",
    "Considerando $n$ como um valor muito grande, $\\pi(r,s,n,p)$ pode ser calculado aproximando a distribuação binomial por uma normal. Com isso, $r$ e $s$ pode ser encontrado como:\n",
    "\n",
    "<center>\n",
    "    $r = -w z_\\gamma + np + \\frac{1}{2}$ e $s = +w z_\\gamma + np + \\frac{1}{2}$\n",
    "</center>\n",
    "\n",
    "onde $w = \\sqrt{np(1-p)}$ e $z_\\gamma$ se refere ao (100$\\gamma$) percentil da distribuição normal padrão. Por fim, $\\gamma = 1 - \\\n",
    "\n",
    "<span style=\"color:red\">OBSERVAÇÃO: Essa aproximação é válida quando $np > 5$ e $nq > 5$ (onde $q = 1 - p$) [Referência](https://stats.libretexts.org/Courses/Las_Positas_College/Math_40%3A_Statistics_and_Probability/06%3A_Continuous_Random_Variables_and_the_Normal_Distribution/6.04%3A_Normal_Approximation_to_the_Binomial_Distribution). Como exemplo, se estamos trabalhando com o quantil 999, $ p = 0.999$ e $q = 0.001$, então $n$ deve ser no mínimo 5000.</span>"
   ]
  },
  {
   "cell_type": "code",
   "execution_count": null,
   "metadata": {},
   "outputs": [],
   "source": []
  },
  {
   "cell_type": "code",
   "execution_count": null,
   "metadata": {},
   "outputs": [],
   "source": []
  },
  {
   "cell_type": "code",
   "execution_count": null,
   "metadata": {},
   "outputs": [],
   "source": []
  },
  {
   "cell_type": "code",
   "execution_count": null,
   "metadata": {},
   "outputs": [],
   "source": []
  },
  {
   "cell_type": "code",
   "execution_count": null,
   "metadata": {},
   "outputs": [],
   "source": []
  },
  {
   "cell_type": "code",
   "execution_count": null,
   "metadata": {},
   "outputs": [],
   "source": []
  }
 ],
 "metadata": {
  "kernelspec": {
   "display_name": "Python 3",
   "language": "python",
   "name": "python3"
  },
  "language_info": {
   "codemirror_mode": {
    "name": "ipython",
    "version": 3
   },
   "file_extension": ".py",
   "mimetype": "text/x-python",
   "name": "python",
   "nbconvert_exporter": "python",
   "pygments_lexer": "ipython3",
   "version": "3.8.5"
  }
 },
 "nbformat": 4,
 "nbformat_minor": 4
}
