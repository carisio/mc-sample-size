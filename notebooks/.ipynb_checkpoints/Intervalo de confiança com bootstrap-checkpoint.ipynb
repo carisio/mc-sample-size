{
 "cells": [
  {
   "cell_type": "markdown",
   "metadata": {},
   "source": [
    "# Cálculo de intervalo de confiança com bootstrap\n",
    "\n",
    "Esse caderno usa bootstrap pra calcular o intervalo de confiança de 95% de algumas métricas (mediana, quantil 99% e quantil 99.9%).\n",
    "\n",
    "Para isso foi considerada uma simulação com 100.000 eventos. Devido ao número de eventos, esses dados foram considerados como os dados corretos. A partir daí, usamos os n primeiros eventos para extrair as métricas desejadas e calculamos o intervalo de confiança usando o bootstraping aplicado a esses n primeiros eventos. Com isso, plotamos o intervalo de confiança calculado para essas n amostras."
   ]
  },
  {
   "cell_type": "markdown",
   "metadata": {},
   "source": [
    "## Preparação do ambiente\n",
    "\n",
    "Vamos começar criando uma função bootstrap que recebe uma amostra e faz a reamostragem com substituição dessa amostra e aplica alguma função de interesse nos dados. A partir daí, retorna a reamostragem, o valor esperado da métrica desejada, o intervalo de confiança de 95% e o erro padrão."
   ]
  },
  {
   "cell_type": "code",
   "execution_count": 1,
   "metadata": {},
   "outputs": [],
   "source": [
    "#############################################################################\n",
    "# Cálculos do intervalo de confiança usando bootstrap\n",
    "# O que pode ser alterado:\n",
    "# - sample: contém as amostras da simulação\n",
    "# - nResamples: é a quantidade de reamostranges no bootstrap\n",
    "# - func: função aplicada a cada reamostragem para trazer o item de interesse\n",
    "#############################################################################\n",
    "\n",
    "import numpy as np\n",
    "import matplotlib.pyplot as plt\n",
    "\n",
    "# Aplica bootstrap em sample para encontrar o quantil 'quantil', seu intervalo\n",
    "# de confiança e seu erro padrão\n",
    "def bootstrap(sample, n_resamples, func):\n",
    "    bootstraped_value = np.zeros(n_resamples)\n",
    "\n",
    "    for i in range(0, n_resamples):\n",
    "        # Faz a reamostragem\n",
    "        resampled = np.random.choice(sample, size=sample.shape, replace=True)\n",
    "        # Aplica a função desejada\n",
    "        bootstraped_value[i] = func(resampled)\n",
    "        \n",
    "    # Retorna o array bootstrap, o valor esperado, o intervalo de confiança e o erro padrão\n",
    "    return [bootstraped_value,\n",
    "            np.mean(bootstraped_value), \n",
    "            np.percentile(bootstraped_value, [2.5,97.5]),\n",
    "            np.std(bootstraped_value)]\n",
    "\n"
   ]
  },
  {
   "cell_type": "markdown",
   "metadata": {},
   "source": [
    "## Análise\n",
    "\n",
    "Vamos abrir um arquivo de simulação e plotar alguns dados dele:"
   ]
  },
  {
   "cell_type": "code",
   "execution_count": 2,
   "metadata": {},
   "outputs": [
    {
     "data": {
      "image/png": "[encoded data removed]",
      "text/plain": [
       "<Figure size 432x288 with 1 Axes>"
      ]
     },
     "metadata": {
      "needs_background": "light"
     },
     "output_type": "display_data"
    },
    {
     "name": "stdout",
     "output_type": "stream",
     "text": [
      "Vamos considerar que os dados dessa distribuição com 100000 registros são os dados reais\n",
      "A mediana é -94.20738\n",
      "O quantil 99% é -63.47454750000001\n",
      "O quantil 99.9% é -60.566693029999776\n"
     ]
    }
   ],
   "source": [
    "# Carrega os dados de uma simulação\n",
    "all_data = np.loadtxt('INR.txt', dtype='float', usecols=(1), delimiter=\"\\t\")\n",
    "\n",
    "plt.hist(all_data, cumulative=True, label='CDF', histtype='step', alpha=0.8, color='k', bins=100)\n",
    "plt.show()\n",
    "\n",
    "print('Vamos considerar que os dados dessa distribuição com', len(all_data), 'registros são os dados reais')\n",
    "print('A mediana é', np.median(all_data))\n",
    "print('O quantil 99% é', np.percentile(all_data, 99))\n",
    "print('O quantil 99.9% é', np.percentile(all_data, 99.9))"
   ]
  },
  {
   "cell_type": "markdown",
   "metadata": {},
   "source": [
    "Agora vamos calcular esses mesmos dados usando bootstrap para diversos tamanhos de amostra:"
   ]
  },
  {
   "cell_type": "code",
   "execution_count": 10,
   "metadata": {},
   "outputs": [],
   "source": [
    "# Para ficar fácil de reproduzir os resultados:\n",
    "np.random.seed(42)\n",
    "\n",
    "# Pega essa simulação e estuda como varia o intervalo de confiança para a mediana\n",
    "# considerando diversos tamanhos de amostra (começa em 1000 e vai até 20000 com passo 100)\n",
    "qtd_amostras_analisadas = range(1000, 50000, 500)\n",
    "\n",
    "print_a_cada_iter = 5000\n",
    "\n",
    "def roda_bootstrap(func):\n",
    "    parametro_calculado = list()\n",
    "    intervalo_confianca_inf = list()\n",
    "    intervalo_confianca_sup = list()\n",
    "    erro_padrao_calculado = list()\n",
    "    \n",
    "    for n_amostras in qtd_amostras_analisadas:\n",
    "        if (n_amostras % print_a_cada_iter == 0):\n",
    "            print('Iniciando cálculos para', n_amostras)\n",
    "            \n",
    "        sampled = all_data[0:n_amostras]\n",
    "        _, parametro, intervalo_confianca, erro_padrao = bootstrap(sampled, 1000, func)\n",
    "        parametro_calculado.append(parametro)\n",
    "        intervalo_confianca_inf.append(intervalo_confianca[0])\n",
    "        intervalo_confianca_sup.append(intervalo_confianca[1])\n",
    "        erro_padrao_calculado.append(erro_padrao)\n",
    "        \n",
    "    return [parametro_calculado, intervalo_confianca_inf, intervalo_confianca_sup, erro_padrao_calculado]\n",
    "\n",
    "def plot_parametro_com_intervalo_confianca(label, valor_real, parametro_calculado, intervalo_confianca_inf, intervalo_confianca_sup):\n",
    "    plt.plot(qtd_amostras_analisadas, parametro_calculado)\n",
    "    plt.plot(qtd_amostras_analisadas, intervalo_confianca_inf, 'b')\n",
    "    plt.plot(qtd_amostras_analisadas, intervalo_confianca_sup, 'b')\n",
    "    plt.plot(qtd_amostras_analisadas, valor_real*np.ones(len(qtd_amostras_analisadas)))\n",
    "    plt.title(label)\n",
    "    plt.show()"
   ]
  },
  {
   "cell_type": "code",
   "execution_count": 11,
   "metadata": {},
   "outputs": [
    {
     "name": "stdout",
     "output_type": "stream",
     "text": [
      "Iniciando cálculos para 5000\n",
      "Iniciando cálculos para 10000\n",
      "Iniciando cálculos para 15000\n",
      "Iniciando cálculos para 20000\n",
      "Iniciando cálculos para 25000\n",
      "Iniciando cálculos para 30000\n",
      "Iniciando cálculos para 35000\n",
      "Iniciando cálculos para 40000\n",
      "Iniciando cálculos para 45000\n"
     ]
    },
    {
     "data": {
      "image/png": "[encoded data removed]",
      "text/plain": [
       "<Figure size 432x288 with 1 Axes>"
      ]
     },
     "metadata": {
      "needs_background": "light"
     },
     "output_type": "display_data"
    }
   ],
   "source": [
    "# MEDIANA\n",
    "parametro_estimado, ic_inf, ic_sup, erro_padrao_calculado = roda_bootstrap(np.median)\n",
    "plot_parametro_com_intervalo_confianca('Mediana', np.median(all_data), parametro_estimado, ic_inf, ic_sup)"
   ]
  },
  {
   "cell_type": "code",
   "execution_count": null,
   "metadata": {},
   "outputs": [],
   "source": [
    "# QUANTIL 99%\n",
    "\n",
    "def quantil_99(dados):\n",
    "    return np.percentile(dados, 99)\n",
    "\n",
    "parametro_estimado, ic_inf, ic_sup, erro_padrao_calculado = roda_bootstrap(quantil_99)\n",
    "plot_parametro_com_intervalo_confianca('Quantil 99%', np.percentile(all_data, 99), parametro_estimado, ic_inf, ic_sup)"
   ]
  },
  {
   "cell_type": "code",
   "execution_count": null,
   "metadata": {},
   "outputs": [],
   "source": [
    "# QUANTIL 99.9%\n",
    "\n",
    "def quantil_999(dados):\n",
    "    return np.percentile(dados, 99.9)\n",
    "\n",
    "parametro_estimado, ic_inf, ic_sup, erro_padrao_calculado = roda_bootstrap(quantil_999)\n",
    "plot_parametro_com_intervalo_confianca('Quantil 99.9%', np.percentile(all_data, 99.9), parametro_estimado, ic_inf, ic_sup)"
   ]
  },
  {
   "cell_type": "code",
   "execution_count": null,
   "metadata": {},
   "outputs": [],
   "source": []
  }
 ],
 "metadata": {
  "kernelspec": {
   "display_name": "Python 3",
   "language": "python",
   "name": "python3"
  },
  "language_info": {
   "codemirror_mode": {
    "name": "ipython",
    "version": 3
   },
   "file_extension": ".py",
   "mimetype": "text/x-python",
   "name": "python",
   "nbconvert_exporter": "python",
   "pygments_lexer": "ipython3",
   "version": "3.8.5"
  }
 },
 "nbformat": 4,
 "nbformat_minor": 4
}
